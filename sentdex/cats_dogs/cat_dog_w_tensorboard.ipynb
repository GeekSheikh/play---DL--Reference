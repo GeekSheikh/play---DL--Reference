{
 "cells": [
  {
   "cell_type": "code",
   "execution_count": 2,
   "metadata": {},
   "outputs": [
    {
     "name": "stdout",
     "output_type": "stream",
     "text": [
      "Train on 22451 samples, validate on 2495 samples\n",
      "Epoch 1/10\n",
      "22451/22451 [==============================] - 60s 3ms/step - loss: 0.6472 - acc: 0.6195 - val_loss: 0.5948 - val_acc: 0.6774\n",
      "Epoch 2/10\n",
      "22451/22451 [==============================] - 60s 3ms/step - loss: 0.5798 - acc: 0.6985 - val_loss: 0.5815 - val_acc: 0.6910\n",
      "Epoch 3/10\n",
      "22451/22451 [==============================] - 60s 3ms/step - loss: 0.5088 - acc: 0.7505 - val_loss: 0.5502 - val_acc: 0.7283\n",
      "Epoch 4/10\n",
      "22451/22451 [==============================] - 60s 3ms/step - loss: 0.4305 - acc: 0.8014 - val_loss: 0.5436 - val_acc: 0.7339\n",
      "Epoch 5/10\n",
      "22451/22451 [==============================] - 60s 3ms/step - loss: 0.3083 - acc: 0.8673 - val_loss: 0.6246 - val_acc: 0.7238\n",
      "Epoch 6/10\n",
      "22451/22451 [==============================] - 59s 3ms/step - loss: 0.1685 - acc: 0.9349 - val_loss: 0.7927 - val_acc: 0.7263\n",
      "Epoch 7/10\n",
      "22451/22451 [==============================] - 60s 3ms/step - loss: 0.0673 - acc: 0.9786 - val_loss: 1.1237 - val_acc: 0.7170\n",
      "Epoch 8/10\n",
      "22451/22451 [==============================] - 60s 3ms/step - loss: 0.0337 - acc: 0.9903 - val_loss: 1.2844 - val_acc: 0.7210\n",
      "Epoch 9/10\n",
      "22451/22451 [==============================] - 60s 3ms/step - loss: 0.0207 - acc: 0.9938 - val_loss: 1.5423 - val_acc: 0.7246\n",
      "Epoch 10/10\n",
      "22451/22451 [==============================] - 60s 3ms/step - loss: 0.0257 - acc: 0.9918 - val_loss: 1.5050 - val_acc: 0.7238\n"
     ]
    },
    {
     "data": {
      "text/plain": [
       "<keras.callbacks.History at 0x20cc4539cc0>"
      ]
     },
     "execution_count": 2,
     "metadata": {},
     "output_type": "execute_result"
    }
   ],
   "source": [
    "import tensorflow as tf\n",
    "import keras\n",
    "from keras import backend as K\n",
    "\n",
    "# NOTE: To shrink the VRAM fraction add this to ConfigProto\n",
    "# gpu_options = tf.GPUOptions(per_process_gpu_memory_fraction=0.333)\n",
    "# K.tf.ConfigProto(gpu_options=gpu_options)\n",
    "\n",
    "cfg = K.tf.ConfigProto(device_count = {'CPU' : 1, 'GPU' : 1})\n",
    "cfg.gpu_options.allow_growth = True\n",
    "K.set_session(K.tf.Session(config=cfg))\n",
    "\n",
    "from keras.models import Sequential\n",
    "from keras.layers import Dense, Dropout, Activation, Flatten, Conv2D, MaxPooling2D\n",
    "from keras.utils import normalize\n",
    "from keras.callbacks import TensorBoard\n",
    "\n",
    "import pickle\n",
    "import time\n",
    "\n",
    "# With Tensorboard it's valuable to give your model a name\n",
    "# Make sure that names are unique\n",
    "NAME = \"Cats-vs-dog-cnn-128x2={}\".format(int(time.time()))\n",
    "\n",
    "tensorboard = TensorBoard(log_dir='logs/{}'.format(NAME))\n",
    "\n",
    "X = pickle.load(open(\"data/pickled/X.pickle\", \"rb\"))\n",
    "y = pickle.load(open(\"data/pickled/y.pickle\", \"rb\"))\n",
    "\n",
    "X = keras.utils.normalize(X, axis=1)\n",
    "\n",
    "model = Sequential()\n",
    "\n",
    "# the 128 can be anything\n",
    "# 3,3 is the window of the convolution (3 pixels X 3 pixels)\n",
    "# X.shape[1:] is 128, 128, 1 based ont he fact that I transformed the images to 128X128 pixes\n",
    "model.add(  Conv2D(128, (3,3), input_shape = X.shape[1:])  )\n",
    "model.add(Activation(\"relu\"))\n",
    "model.add(MaxPooling2D(pool_size=(2,2)))\n",
    "\n",
    "model.add(Conv2D(128, (3,3)))\n",
    "model.add(Activation(\"relu\"))\n",
    "model.add(MaxPooling2D(pool_size=(2,2)))\n",
    "\n",
    "# Seems like we always have to flatten before the output or something\n",
    "model.add(Flatten())\n",
    "\n",
    "# Removing this Dense layer to avoid overfitting\n",
    "model.add(Dense(128))\n",
    "model.add(Activation('relu'))\n",
    "\n",
    "# Output Layer\n",
    "model.add(Dense(1))\n",
    "model.add(Activation('sigmoid'))\n",
    "\n",
    "model.compile(loss='binary_crossentropy',\n",
    "             optimizer='adam',\n",
    "             metrics=['accuracy'])\n",
    "\n",
    "model.fit(X, y, batch_size=32, epochs=10, validation_split=0.1, callbacks=[tensorboard])"
   ]
  },
  {
   "cell_type": "code",
   "execution_count": null,
   "metadata": {},
   "outputs": [],
   "source": [
    "# Go to python\n",
    "# Run the following \n",
    "# tensorboard --host proteus.localdomain --logdir=logs/"
   ]
  }
 ],
 "metadata": {
  "kernelspec": {
   "display_name": "Python 3",
   "language": "python",
   "name": "python3"
  },
  "language_info": {
   "codemirror_mode": {
    "name": "ipython",
    "version": 3
   },
   "file_extension": ".py",
   "mimetype": "text/x-python",
   "name": "python",
   "nbconvert_exporter": "python",
   "pygments_lexer": "ipython3",
   "version": "3.6.6"
  }
 },
 "nbformat": 4,
 "nbformat_minor": 2
}

{
 "cells": [
  {
   "cell_type": "code",
   "execution_count": 32,
   "metadata": {},
   "outputs": [],
   "source": [
    "import numpy as np\n",
    "import matplotlib.pyplot as plt\n",
    "import os\n",
    "import cv2\n",
    "import random\n",
    "from shutil import copyfile\n",
    "from sklearn.model_selection import train_test_split"
   ]
  },
  {
   "cell_type": "code",
   "execution_count": 5,
   "metadata": {},
   "outputs": [
    {
     "name": "stdout",
     "output_type": "stream",
     "text": [
      " Volume in drive C has no label.\n",
      " Volume Serial Number is 7885-7FCA\n",
      "\n",
      " Directory of C:\\Users\\tomesd\\Code\\play---DL--Reference\\sentdex\\cats_dogs\\data\\PetImages\n",
      "\n",
      "10/26/2018  09:03 PM    <DIR>          .\n",
      "10/26/2018  09:03 PM    <DIR>          ..\n",
      "02/10/2017  10:01 AM    <DIR>          Cat\n",
      "02/10/2017  10:12 AM    <DIR>          Dog\n",
      "               0 File(s)              0 bytes\n",
      "               4 Dir(s)  394,170,933,248 bytes free\n"
     ]
    }
   ],
   "source": [
    "ls data\\PetImages"
   ]
  },
  {
   "cell_type": "code",
   "execution_count": 38,
   "metadata": {},
   "outputs": [],
   "source": [
    "orig_data_dir = \"data/PetImages\"\n",
    "new_data_dir = \"data/keras/cat_dog/\"\n",
    "categories = [\"Dog\", \"Cat\"]\n",
    "\n",
    "dog_img_paths = []\n",
    "cat_img_paths = []\n",
    "\n",
    "# Dogs\n",
    "path = os.path.join(orig_data_dir, categories[0])\n",
    "for img in os.listdir(path):\n",
    "    dog_img_paths.append(img)\n",
    "    \n",
    "# cats\n",
    "path = os.path.join(orig_data_dir, categories[1])\n",
    "for img in os.listdir(path):\n",
    "    cat_img_paths.append(img)"
   ]
  },
  {
   "cell_type": "code",
   "execution_count": 39,
   "metadata": {},
   "outputs": [
    {
     "name": "stdout",
     "output_type": "stream",
     "text": [
      "Dogs have 12501 pics\n",
      "Cats have 12501 pics\n"
     ]
    }
   ],
   "source": [
    "print(\"Dogs have {} pics\".format(len(dog_img_paths)))\n",
    "print(\"Cats have {} pics\".format(len(cat_img_paths)))"
   ]
  },
  {
   "cell_type": "code",
   "execution_count": 40,
   "metadata": {},
   "outputs": [
    {
     "data": {
      "text/plain": [
       "'9550.jpg'"
      ]
     },
     "execution_count": 40,
     "metadata": {},
     "output_type": "execute_result"
    }
   ],
   "source": [
    "random.shuffle(dog_img_paths)\n",
    "random.shuffle(cat_img_paths)\n",
    "dog_img_paths[0]"
   ]
  },
  {
   "cell_type": "code",
   "execution_count": 41,
   "metadata": {},
   "outputs": [],
   "source": [
    "dog_img_paths_train, dog_img_paths_test, cat_img_paths_train, cat_img_paths_test = train_test_split(\n",
    "    dog_img_paths, cat_img_paths, test_size=0.2, shuffle=False)"
   ]
  },
  {
   "cell_type": "code",
   "execution_count": 42,
   "metadata": {},
   "outputs": [
    {
     "name": "stdout",
     "output_type": "stream",
     "text": [
      "Dogs Train have 10000 pics\n",
      "Dogs Test have 2501 pics\n"
     ]
    }
   ],
   "source": [
    "print(\"Dogs Train have {} pics\".format(len(dog_img_paths_train)))\n",
    "print(\"Dogs Test have {} pics\".format(len(dog_img_paths_test)))"
   ]
  },
  {
   "cell_type": "code",
   "execution_count": 53,
   "metadata": {},
   "outputs": [],
   "source": [
    "for img in dog_img_paths_train:\n",
    "    copyfile(os.path.join(orig_data_dir, \"Dog\", img),\n",
    "            os.path.join(new_data_dir, \"TRAIN\", \"Dog\", img))"
   ]
  },
  {
   "cell_type": "code",
   "execution_count": 54,
   "metadata": {},
   "outputs": [],
   "source": [
    "for img in dog_img_paths_test:\n",
    "    copyfile(os.path.join(orig_data_dir, \"Dog\", img),\n",
    "            os.path.join(new_data_dir, \"TEST\", \"Dog\", img))"
   ]
  },
  {
   "cell_type": "code",
   "execution_count": 55,
   "metadata": {},
   "outputs": [],
   "source": [
    "for img in cat_img_paths_train:\n",
    "    copyfile(os.path.join(orig_data_dir, \"Cat\", img),\n",
    "            os.path.join(new_data_dir, \"TRAIN\", \"Cat\", img))"
   ]
  },
  {
   "cell_type": "code",
   "execution_count": 56,
   "metadata": {},
   "outputs": [],
   "source": [
    "for img in cat_img_paths_test:\n",
    "    copyfile(os.path.join(orig_data_dir, \"Cat\", img),\n",
    "            os.path.join(new_data_dir, \"TEST\", \"Cat\", img))"
   ]
  }
 ],
 "metadata": {
  "kernelspec": {
   "display_name": "Python 3",
   "language": "python",
   "name": "python3"
  },
  "language_info": {
   "codemirror_mode": {
    "name": "ipython",
    "version": 3
   },
   "file_extension": ".py",
   "mimetype": "text/x-python",
   "name": "python",
   "nbconvert_exporter": "python",
   "pygments_lexer": "ipython3",
   "version": "3.6.6"
  }
 },
 "nbformat": 4,
 "nbformat_minor": 2
}

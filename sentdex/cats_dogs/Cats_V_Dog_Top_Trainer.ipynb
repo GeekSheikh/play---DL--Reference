{
 "cells": [
  {
   "cell_type": "markdown",
   "metadata": {},
   "source": [
    "### Obvious things to tweak\n",
    "\n",
    "\n",
    "Number of layers\n",
    "Nodes per layer\n",
    "Dense layer at the end or not"
   ]
  },
  {
   "cell_type": "code",
   "execution_count": 12,
   "metadata": {},
   "outputs": [
    {
     "name": "stdout",
     "output_type": "stream",
     "text": [
      "4conv-64nodes-1dense-64batch-1540687157\n"
     ]
    }
   ],
   "source": [
    "import time\n",
    "dense_layers = [1]\n",
    "layer_sizes = [64]\n",
    "batch_sizes = [64]\n",
    "conv_layers = [4]\n",
    "\n",
    "for dense_layer in dense_layers:\n",
    "    for layer_size in layer_sizes:\n",
    "        for conv_layer in conv_layers:\n",
    "            for batch_size in batch_sizes:\n",
    "                NAME = \"{}conv-{}nodes-{}dense-{}batch-{}\".format(conv_layer, layer_size, dense_layer, batch_size, int(time.time()))\n",
    "                print(NAME)"
   ]
  },
  {
   "cell_type": "code",
   "execution_count": null,
   "metadata": {
    "scrolled": false
   },
   "outputs": [
    {
     "name": "stdout",
     "output_type": "stream",
     "text": [
      "4conv-64nodes-1dense-64batch-Dropout+BatchReg-1540689737\n",
      "Epoch 1/20\n",
      "177/389 [============>.................] - ETA: 25s - loss: 0.6556 - acc: 0.6396"
     ]
    }
   ],
   "source": [
    "# Round two attemps\n",
    "import tensorflow as tf\n",
    "import keras\n",
    "from keras import backend as K\n",
    "\n",
    "# NOTE: To shrink the VRAM fraction add this to ConfigProto\n",
    "# gpu_options = tf.GPUOptions(per_process_gpu_memory_fraction=0.333)\n",
    "# K.tf.ConfigProto(gpu_options=gpu_options)\n",
    "\n",
    "cfg = K.tf.ConfigProto(device_count = {'CPU' : 1, 'GPU' : 1})\n",
    "cfg.gpu_options.allow_growth = True\n",
    "K.set_session(K.tf.Session(config=cfg))\n",
    "\n",
    "from keras.models import Sequential\n",
    "from keras.layers import Dense, Dropout, Activation, Flatten, Conv2D, MaxPooling2D, BatchNormalization\n",
    "from keras.utils import normalize\n",
    "from keras.callbacks import TensorBoard\n",
    "from keras.preprocessing.image import ImageDataGenerator\n",
    "\n",
    "import pickle\n",
    "import time\n",
    "\n",
    "datagen = ImageDataGenerator(rotation_range=10, width_shift_range=0.1,\n",
    "                             height_shift_range=0.1, shear_range=0.15,\n",
    "                             zoom_range=0.1, channel_shift_range=10., horizontal_flip=True)\n",
    "\n",
    "X = pickle.load(open(\"data/pickled/X.pickle\", \"rb\"))\n",
    "y = pickle.load(open(\"data/pickled/y.pickle\", \"rb\"))\n",
    "\n",
    "# X = keras.utils.normalize(X, axis=1)\n",
    "\n",
    "from sklearn.model_selection import train_test_split\n",
    "X_train, X_val, y_train, y_val = train_test_split(\n",
    "    X, y, test_size=0.2, shuffle=False)\n",
    "\n",
    "for dense_layer in dense_layers:\n",
    "    for layer_size in layer_sizes:\n",
    "        for conv_layer in conv_layers:\n",
    "            for batch_size in batch_sizes:\n",
    "                K.clear_session()\n",
    "                NAME = \"{}conv-{}nodes-{}dense-{}batch-Dropout+BatchReg-{}\".format(conv_layer, layer_size, dense_layer, batch_size, int(time.time()))\n",
    "                print(NAME)\n",
    "                tensorboard = TensorBoard(log_dir='logs_2/{}'.format(NAME))\n",
    "\n",
    "                model = Sequential()\n",
    "\n",
    "                # the 128 can be anything\n",
    "                # 3,3 is the window of the convolution (3 pixels X 3 pixels)\n",
    "                # X.shape[1:] is 128, 128, 1 based ont he fact that I transformed the images to 128X128 pixes\n",
    "                model.add(Conv2D(layer_size, (3,3), activation='relu', input_shape = X.shape[1:]))\n",
    "                model.add(BatchNormalization())\n",
    "#                 model.add(Activation(\"relu\"))\n",
    "#                 model.add(Dropout(0.2))\n",
    "                model.add(MaxPooling2D(pool_size=(2,2)))\n",
    "\n",
    "                for l in range(conv_layer-1):\n",
    "                    model.add(Conv2D(layer_size, (3,3), activation='relu'))\n",
    "                    model.add(BatchNormalization())\n",
    "#                     model.add(Activation(\"relu\"))\n",
    "                    model.add(Dropout(0.2))\n",
    "                    model.add(MaxPooling2D(pool_size=(2,2)))\n",
    "\n",
    "                model.add(Flatten())\n",
    "                for l in range(dense_layer):\n",
    "                    model.add(Dense(layer_size))\n",
    "                    model.add(Activation(\"relu\"))\n",
    "                    model.add(Dropout(0.4))\n",
    "\n",
    "                # Output Layer\n",
    "                model.add(Dense(1))\n",
    "                model.add(Activation('sigmoid'))\n",
    "\n",
    "                model.compile(loss='binary_crossentropy',\n",
    "                             optimizer='adam',\n",
    "                             metrics=['accuracy'])\n",
    "\n",
    "    #             model.fit(X_train, y_train, batch_size=32, epochs=10, validation_data=(X_val, y_val), callbacks=[tensorboard])\n",
    "                model.fit_generator(datagen.flow(X_train, y_train, batch_size=batch_size),\n",
    "                                   steps_per_epoch = len(X) / batch_size,\n",
    "                                   epochs = 20,\n",
    "                                   validation_data=(X_val, y_val),\n",
    "                                   callbacks=[tensorboard])"
   ]
  },
  {
   "cell_type": "code",
   "execution_count": null,
   "metadata": {},
   "outputs": [],
   "source": []
  }
 ],
 "metadata": {
  "kernelspec": {
   "display_name": "Python 3",
   "language": "python",
   "name": "python3"
  },
  "language_info": {
   "codemirror_mode": {
    "name": "ipython",
    "version": 3
   },
   "file_extension": ".py",
   "mimetype": "text/x-python",
   "name": "python",
   "nbconvert_exporter": "python",
   "pygments_lexer": "ipython3",
   "version": "3.6.6"
  }
 },
 "nbformat": 4,
 "nbformat_minor": 2
}
